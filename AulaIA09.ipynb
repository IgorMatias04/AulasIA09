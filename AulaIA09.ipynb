{
  "nbformat": 4,
  "nbformat_minor": 0,
  "metadata": {
    "colab": {
      "provenance": [],
      "include_colab_link": true
    },
    "kernelspec": {
      "name": "python3",
      "display_name": "Python 3"
    },
    "language_info": {
      "name": "python"
    }
  },
  "cells": [
    {
      "cell_type": "markdown",
      "metadata": {
        "id": "view-in-github",
        "colab_type": "text"
      },
      "source": [
        "<a href=\"https://colab.research.google.com/github/IgorMatias04/AulasIA09/blob/main/AulaIA09.ipynb\" target=\"_parent\"><img src=\"https://colab.research.google.com/assets/colab-badge.svg\" alt=\"Open In Colab\"/></a>"
      ]
    },
    {
      "cell_type": "code",
      "source": [
        "clima=['Ensolarado', 'Ensolarado', 'Nublado', 'Chuvoso', 'Chuvoso', 'Chuvoso', 'Nublado',\n",
        "'Ensolarado', 'Ensolarado', 'Chuvoso', 'Ensolarado', 'Nublado', 'Nublado', 'Chuvoso']\n",
        "\n",
        "temp=['Quente', 'Quente', 'Quente', 'Suave', 'Legal', 'Legal', 'Legal', 'Suave',\n",
        "'Legal', 'Suave', 'Suave', 'Suave', 'Quente', 'Suave']\n",
        "\n",
        "brincar=['Não','Não','Sim','Sim','Sim','Não','Sim','Não','Sim','Sim','Sim','Sim','Sim','Não']"
      ],
      "metadata": {
        "id": "VXkvX0EW7vAT"
      },
      "execution_count": null,
      "outputs": []
    },
    {
      "cell_type": "code",
      "source": [
        "from sklearn import preprocessing"
      ],
      "metadata": {
        "id": "-BdhvGHC8RLz"
      },
      "execution_count": null,
      "outputs": []
    },
    {
      "cell_type": "code",
      "source": [
        "le = preprocessing.LabelEncoder()"
      ],
      "metadata": {
        "id": "zAWLNtJC8TYr"
      },
      "execution_count": null,
      "outputs": []
    },
    {
      "cell_type": "code",
      "source": [
        "clima_encoded = le.fit_transform(clima)\n",
        "temp_encoded = le.fit_transform(temp)\n",
        "print(clima_encoded)\n",
        "print(temp_encoded)"
      ],
      "metadata": {
        "colab": {
          "base_uri": "https://localhost:8080/"
        },
        "id": "kE9iaKNk8Yas",
        "outputId": "69638177-6a69-4818-d9da-f10cd31bfb35"
      },
      "execution_count": null,
      "outputs": [
        {
          "output_type": "stream",
          "name": "stdout",
          "text": [
            "[1 1 2 0 0 0 2 1 1 0 1 2 2 0]\n",
            "[1 1 1 2 0 0 0 2 0 2 2 2 1 2]\n"
          ]
        }
      ]
    },
    {
      "cell_type": "code",
      "source": [
        "alvo = le.fit_transform(brincar)\n",
        "print(alvo)"
      ],
      "metadata": {
        "colab": {
          "base_uri": "https://localhost:8080/"
        },
        "id": "5cTdwBql8-Mr",
        "outputId": "69a7d5d9-cd22-4ce7-93d2-e1c7f7a2bb54"
      },
      "execution_count": null,
      "outputs": [
        {
          "output_type": "stream",
          "name": "stdout",
          "text": [
            "[0 0 1 1 1 0 1 0 1 1 1 1 1 0]\n"
          ]
        }
      ]
    },
    {
      "cell_type": "code",
      "source": [
        "carac=list(zip(clima_encoded,temp_encoded))\n",
        "carac"
      ],
      "metadata": {
        "colab": {
          "base_uri": "https://localhost:8080/"
        },
        "id": "9DxoMszv9GPr",
        "outputId": "63ec8a0c-4c99-44a5-e5a6-1880e422b911"
      },
      "execution_count": null,
      "outputs": [
        {
          "output_type": "execute_result",
          "data": {
            "text/plain": [
              "[(1, 1),\n",
              " (1, 1),\n",
              " (2, 1),\n",
              " (0, 2),\n",
              " (0, 0),\n",
              " (0, 0),\n",
              " (2, 0),\n",
              " (1, 2),\n",
              " (1, 0),\n",
              " (0, 2),\n",
              " (1, 2),\n",
              " (2, 2),\n",
              " (2, 1),\n",
              " (0, 2)]"
            ]
          },
          "metadata": {},
          "execution_count": 7
        }
      ]
    },
    {
      "cell_type": "code",
      "source": [
        "#Importa a biblioteca do modelo Naive Bayes Gaussiano\n",
        "from sklearn.naive_bayes import GaussianNB\n",
        "import numpy as np\n",
        "#Cria um classificador Gaussiano\n",
        "modelo = GaussianNB()\n",
        "# Treinando o modelo usando os ajustes de treinamento.\n",
        "modelo.fit(carac,alvo)\n",
        "#Predito\n",
        "predito = modelo.predict([[2,2]]) # 2:Nublado, 2:Suave\n",
        "print(predito)"
      ],
      "metadata": {
        "colab": {
          "base_uri": "https://localhost:8080/"
        },
        "id": "qcm6H6cO9Quj",
        "outputId": "f8a0cc21-1948-4410-ba5a-00981036fcfd"
      },
      "execution_count": null,
      "outputs": [
        {
          "output_type": "stream",
          "name": "stdout",
          "text": [
            "[1]\n"
          ]
        }
      ]
    }
  ]
}